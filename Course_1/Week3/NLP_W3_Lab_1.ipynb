{
 "cells": [
  {
   "cell_type": "markdown",
   "id": "75a89ff6-bcf6-4e17-93b9-dc5440fc339e",
   "metadata": {},
   "source": [
    "# Linear algebra in Python with NumPy\n"
   ]
  },
  {
   "cell_type": "markdown",
   "id": "bf8dc2d2-9253-48b3-baaa-e7b000c732e8",
   "metadata": {},
   "source": [
    "In this lab, you will have the opportunity to remember some basic concepts about linear algebra and how to use them in Python.\n",
    "\n",
    "Numpy is one of the most used libraries in Python for arrays manipulation. It adds to Python a set of functions that allows us to operate on large multidimensional arrays with just a few lines. So forget about writing nested loops for adding matrices! With NumPy, this is as simple as adding numbers.\n",
    "\n",
    "Let us import the `numpy` library and assign the alias `np` for it. We will follow this convention in almost every notebook in this course, and you'll see this in many resources outside this course as well."
   ]
  },
  {
   "cell_type": "code",
   "execution_count": 1,
   "id": "3f2adb55-0888-4a34-9b52-3914b4c2c52a",
   "metadata": {},
   "outputs": [],
   "source": [
    "import numpy as np\n"
   ]
  },
  {
   "cell_type": "markdown",
   "id": "4369bed7-8c66-4f10-b0b9-086fc62ea45a",
   "metadata": {},
   "source": [
    "## Defining lists and numpy arrays"
   ]
  },
  {
   "cell_type": "code",
   "execution_count": 2,
   "id": "69ffec03-1abd-4fcc-84ed-ac94317e12ab",
   "metadata": {},
   "outputs": [],
   "source": [
    "alist = [1,2,3,4,5]\n",
    "narray = np.array(alist)"
   ]
  },
  {
   "cell_type": "code",
   "execution_count": 3,
   "id": "e9395d5c-e549-460c-96b4-347364d749d0",
   "metadata": {},
   "outputs": [
    {
     "name": "stdout",
     "output_type": "stream",
     "text": [
      "[1, 2, 3, 4, 5]\n",
      "[1 2 3 4 5]\n"
     ]
    }
   ],
   "source": [
    "print(alist)\n",
    "print(narray)"
   ]
  },
  {
   "cell_type": "code",
   "execution_count": 4,
   "id": "22fd777f-f997-4495-b36a-d7e9f9b6c679",
   "metadata": {},
   "outputs": [
    {
     "name": "stdout",
     "output_type": "stream",
     "text": [
      "<class 'list'>\n",
      "<class 'numpy.ndarray'>\n"
     ]
    }
   ],
   "source": [
    "print(type(alist))\n",
    "print(type(narray))"
   ]
  },
  {
   "cell_type": "markdown",
   "id": "0a217897-3a77-49a1-a8b9-6dfc138e4dc4",
   "metadata": {},
   "source": [
    "## Algebraic operators on NumPy arrays vs. Python lists\n",
    "\n",
    "One of the common beginner mistakes is to mix up the concepts of NumPy arrays and Python lists. Just observe the next example, where we add two objects of the two mentioned types. Note that the '+' operator on NumPy arrays perform an element-wise addition, while the same operation on Python lists results in a list concatenation. Be careful while coding. Knowing this can save many headaches."
   ]
  },
  {
   "cell_type": "code",
   "execution_count": 5,
   "id": "a72e5c06-414f-40ce-ba12-948572f822f5",
   "metadata": {},
   "outputs": [
    {
     "name": "stdout",
     "output_type": "stream",
     "text": [
      "[ 2  4  6  8 10]\n",
      "[1, 2, 3, 4, 5, 1, 2, 3, 4, 5]\n"
     ]
    }
   ],
   "source": [
    "print(narray + narray)\n",
    "print(alist + alist)"
   ]
  },
  {
   "cell_type": "code",
   "execution_count": 6,
   "id": "5536aa96-9414-4008-9c33-56060a140336",
   "metadata": {},
   "outputs": [
    {
     "name": "stdout",
     "output_type": "stream",
     "text": [
      "[ 3  6  9 12 15]\n"
     ]
    }
   ],
   "source": [
    "print(narray * 3)\n"
   ]
  },
  {
   "cell_type": "code",
   "execution_count": 7,
   "id": "22968c65-2b20-4673-97f0-9fa3e38b0a8d",
   "metadata": {},
   "outputs": [
    {
     "name": "stdout",
     "output_type": "stream",
     "text": [
      "[1, 2, 3, 4, 5, 1, 2, 3, 4, 5, 1, 2, 3, 4, 5]\n"
     ]
    }
   ],
   "source": [
    "print(alist * 3)\n"
   ]
  },
  {
   "cell_type": "markdown",
   "id": "62df52e5-e972-4978-a8cf-096d98fc66c7",
   "metadata": {},
   "source": [
    "## Matrix or Array of Arrays\n",
    "\n",
    "In linear algebra, a matrix is a structure composed of n rows by m columns. That means each row must have the same number of columns. With NumPy, we have two ways to create a matrix:\n",
    "* Creating an array of arrays using `np.array` (recommended). \n",
    "* Creating a matrix using `np.matrix` (still available but might be removed soon).\n",
    "\n",
    "NumPy arrays or lists can be used to initialize a matrix, but the resulting matrix will be composed of NumPy arrays only."
   ]
  },
  {
   "cell_type": "code",
   "execution_count": 8,
   "id": "c69d3ef8-a3fc-4d7f-8d81-fe608a15faa3",
   "metadata": {},
   "outputs": [],
   "source": [
    "npmatrix1 = np.array([narray, narray, narray])"
   ]
  },
  {
   "cell_type": "code",
   "execution_count": 9,
   "id": "26fe865d-5efb-4a20-8341-9b3f854d918f",
   "metadata": {},
   "outputs": [
    {
     "name": "stdout",
     "output_type": "stream",
     "text": [
      "[[1 2 3 4 5]\n",
      " [1 2 3 4 5]\n",
      " [1 2 3 4 5]]\n"
     ]
    }
   ],
   "source": [
    "print(npmatrix1)"
   ]
  },
  {
   "cell_type": "code",
   "execution_count": 11,
   "id": "33b27df8-cacc-4878-b488-1cbfdb4afee7",
   "metadata": {},
   "outputs": [],
   "source": [
    "npmatrix2 = np.array([alist, alist, alist])"
   ]
  },
  {
   "cell_type": "code",
   "execution_count": 13,
   "id": "009baf7c-c7c3-4145-ac43-61667caf2748",
   "metadata": {},
   "outputs": [
    {
     "name": "stdout",
     "output_type": "stream",
     "text": [
      "[[1 2 3 4 5]\n",
      " [1 2 3 4 5]\n",
      " [1 2 3 4 5]]\n"
     ]
    }
   ],
   "source": [
    "print(npmatrix2)"
   ]
  },
  {
   "cell_type": "code",
   "execution_count": 16,
   "id": "13b1633d-979a-47b8-8806-7ec777068a24",
   "metadata": {},
   "outputs": [],
   "source": [
    "npmatrix3 = np.array([narray, [3,4,2,3,4], narray])"
   ]
  },
  {
   "cell_type": "code",
   "execution_count": 18,
   "id": "8a35956e-04dd-4029-ae70-ae68df348de6",
   "metadata": {},
   "outputs": [
    {
     "name": "stdout",
     "output_type": "stream",
     "text": [
      "[[1 2 3 4 5]\n",
      " [3 4 2 3 4]\n",
      " [1 2 3 4 5]]\n"
     ]
    }
   ],
   "source": [
    "print(npmatrix3)"
   ]
  },
  {
   "cell_type": "markdown",
   "id": "458b4fd4-afc1-4778-b0a8-b6c303ff783d",
   "metadata": {},
   "source": [
    "However, when defining a matrix, be sure that all the rows contain the same number of elements. Otherwise, the linear algebra operations could lead to unexpected results.\n",
    "\n",
    "Analyze the following two examples:"
   ]
  },
  {
   "cell_type": "code",
   "execution_count": 20,
   "id": "128a1b41-1b26-4ffc-93e9-e37b2b69c789",
   "metadata": {},
   "outputs": [],
   "source": [
    "okmatrix = np.array([[1,2],[3,4]])"
   ]
  },
  {
   "cell_type": "code",
   "execution_count": 23,
   "id": "8b6e393d-28b3-4130-9b09-255fa311f141",
   "metadata": {},
   "outputs": [
    {
     "name": "stdout",
     "output_type": "stream",
     "text": [
      "[[1 2]\n",
      " [3 4]]\n"
     ]
    }
   ],
   "source": [
    "print(okmatrix)"
   ]
  },
  {
   "cell_type": "code",
   "execution_count": null,
   "id": "d1463908-140d-4751-906b-2b4a89488bb2",
   "metadata": {},
   "outputs": [],
   "source": []
  },
  {
   "cell_type": "code",
   "execution_count": 24,
   "id": "2bd14772-49b9-480e-a0e8-ea1842b1d0e2",
   "metadata": {},
   "outputs": [
    {
     "name": "stdout",
     "output_type": "stream",
     "text": [
      "[[2 4]\n",
      " [6 8]]\n"
     ]
    }
   ],
   "source": [
    "print(okmatrix * 2)"
   ]
  },
  {
   "cell_type": "code",
   "execution_count": 26,
   "id": "c5927553-2d8d-4086-a9eb-ac077e529043",
   "metadata": {},
   "outputs": [
    {
     "ename": "ValueError",
     "evalue": "setting an array element with a sequence. The requested array has an inhomogeneous shape after 1 dimensions. The detected shape was (3,) + inhomogeneous part.",
     "output_type": "error",
     "traceback": [
      "\u001b[0;31m---------------------------------------------------------------------------\u001b[0m",
      "\u001b[0;31mValueError\u001b[0m                                Traceback (most recent call last)",
      "Cell \u001b[0;32mIn[26], line 1\u001b[0m\n\u001b[0;32m----> 1\u001b[0m badmatrix \u001b[38;5;241m=\u001b[39m \u001b[43mnp\u001b[49m\u001b[38;5;241;43m.\u001b[39;49m\u001b[43marray\u001b[49m\u001b[43m(\u001b[49m\u001b[43m[\u001b[49m\u001b[43m[\u001b[49m\u001b[38;5;241;43m1\u001b[39;49m\u001b[43m,\u001b[49m\u001b[38;5;241;43m2\u001b[39;49m\u001b[43m]\u001b[49m\u001b[43m,\u001b[49m\u001b[43m[\u001b[49m\u001b[38;5;241;43m3\u001b[39;49m\u001b[43m,\u001b[49m\u001b[38;5;241;43m4\u001b[39;49m\u001b[43m]\u001b[49m\u001b[43m,\u001b[49m\u001b[43m[\u001b[49m\u001b[38;5;241;43m5\u001b[39;49m\u001b[43m,\u001b[49m\u001b[38;5;241;43m6\u001b[39;49m\u001b[43m,\u001b[49m\u001b[38;5;241;43m7\u001b[39;49m\u001b[43m]\u001b[49m\u001b[43m]\u001b[49m\u001b[43m)\u001b[49m\n\u001b[1;32m      2\u001b[0m \u001b[38;5;28mprint\u001b[39m(badmatrix)\n\u001b[1;32m      3\u001b[0m \u001b[38;5;28mprint\u001b[39m(badmatrix \u001b[38;5;241m*\u001b[39m \u001b[38;5;241m3\u001b[39m)\n",
      "\u001b[0;31mValueError\u001b[0m: setting an array element with a sequence. The requested array has an inhomogeneous shape after 1 dimensions. The detected shape was (3,) + inhomogeneous part."
     ]
    }
   ],
   "source": [
    "badmatrix = np.array([[1,2],[3,4],[5,6,7]])\n",
    "print(badmatrix)\n",
    "print(badmatrix * 3)"
   ]
  },
  {
   "cell_type": "markdown",
   "id": "19a4751c-1dfd-4fae-af5a-579439e26194",
   "metadata": {},
   "source": [
    "## Scaling and translating matrices\n",
    "\n",
    "Now that you know how to build correct NumPy arrays and matrices, let us see how easy it is to operate with them in Python using the regular algebraic operators like + and -. \n",
    "\n",
    "Operations can be performed between arrays and arrays or between arrays and scalars."
   ]
  },
  {
   "cell_type": "code",
   "execution_count": 27,
   "id": "35c0dd8f-ccaa-4d61-bf0a-001d4083fc8c",
   "metadata": {},
   "outputs": [
    {
     "name": "stdout",
     "output_type": "stream",
     "text": [
      "[[3 5]\n",
      " [7 9]]\n"
     ]
    }
   ],
   "source": [
    "# Scale by 2 and translate 1 unit the matrix\n",
    "result = okmatrix * 2 + 1 # For each element in the matrix, multiply by 2 and add 1\n",
    "print(result)"
   ]
  },
  {
   "cell_type": "raw",
   "id": "646bd553-a23e-46b8-b228-df8e029cfc79",
   "metadata": {},
   "source": [
    "result = okmatrix * okmatrix"
   ]
  },
  {
   "cell_type": "code",
   "execution_count": 28,
   "id": "382ecc7e-6f05-4752-9c66-4506f05c4b43",
   "metadata": {},
   "outputs": [
    {
     "name": "stdout",
     "output_type": "stream",
     "text": [
      "[[ 1  4]\n",
      " [ 9 16]]\n"
     ]
    }
   ],
   "source": [
    "result = okmatrix * okmatrix\n",
    "print(result)"
   ]
  },
  {
   "cell_type": "markdown",
   "id": "6047b9cf-f009-4d58-8c13-b778d1a4f784",
   "metadata": {},
   "source": [
    "## Transpose a matrix\n",
    "\n",
    "In linear algebra, the transpose of a matrix is an operator that flips a matrix over its diagonal, i.e., the transpose operator switches the row and column indices of the matrix producing another matrix. If the original matrix dimension is n by m, the resulting transposed matrix will be m by n.\n",
    "\n",
    "**T** denotes the transpose operations with NumPy matrices."
   ]
  },
  {
   "cell_type": "code",
   "execution_count": 30,
   "id": "e752dc05-cf49-4e97-8ea4-3fff55597a2b",
   "metadata": {},
   "outputs": [
    {
     "name": "stdout",
     "output_type": "stream",
     "text": [
      "[[3 4]\n",
      " [3 2]\n",
      " [4 3]]\n"
     ]
    }
   ],
   "source": [
    "matrix3x2 = np.array([[3,4],[3,2],[4,3]])\n",
    "print(matrix3x2)"
   ]
  },
  {
   "cell_type": "code",
   "execution_count": 31,
   "id": "76e92483-85bf-44dd-bd8e-a057fe930321",
   "metadata": {},
   "outputs": [
    {
     "name": "stdout",
     "output_type": "stream",
     "text": [
      "[[3 3 4]\n",
      " [4 2 3]]\n"
     ]
    }
   ],
   "source": [
    "print(matrix3x2.T)"
   ]
  },
  {
   "cell_type": "markdown",
   "id": "19f3370e-59ba-440b-add2-d218ce8c1d67",
   "metadata": {},
   "source": [
    "## Get the norm of a nparray or matrix\n",
    "\n",
    "In linear algebra, the norm of an n-dimensional vector $\\vec a$   is defined as:\n",
    "\n",
    "$$ norm(\\vec a) = ||\\vec a|| = \\sqrt {\\sum_{i=1}^{n} a_i ^ 2}$$\n",
    "\n",
    "Calculating the norm of vector or even of a matrix is a general operation when dealing with data. Numpy has a set of functions for linear algebra in the subpackage **linalg**, including the **norm** function. Let us see how to get the norm a given array or matrix:"
   ]
  },
  {
   "cell_type": "code",
   "execution_count": 33,
   "id": "41922356-a478-44ba-8197-f18d38b7aa43",
   "metadata": {},
   "outputs": [],
   "source": [
    "nparray1 = np.array([1,2,3,4])\n",
    "norm1 = np.linalg.norm(nparray1)"
   ]
  },
  {
   "cell_type": "code",
   "execution_count": 36,
   "id": "2f9a2872-7fa3-405d-b360-c210caa7af65",
   "metadata": {},
   "outputs": [
    {
     "name": "stdout",
     "output_type": "stream",
     "text": [
      "5.477225575051661\n"
     ]
    }
   ],
   "source": [
    "print(norm1)"
   ]
  },
  {
   "cell_type": "code",
   "execution_count": 41,
   "id": "c7da3a4e-cc55-4961-8a09-bb58713734d1",
   "metadata": {},
   "outputs": [
    {
     "name": "stdout",
     "output_type": "stream",
     "text": [
      "5.5677643628300215\n"
     ]
    }
   ],
   "source": [
    "nparray2 = np.array([[3,2],[3,3]])\n",
    "print(np.linalg.norm(nparray2))"
   ]
  },
  {
   "cell_type": "code",
   "execution_count": 42,
   "id": "f06a2276-35ae-48de-af0f-4ed947a5bc66",
   "metadata": {},
   "outputs": [
    {
     "name": "stdout",
     "output_type": "stream",
     "text": [
      "Original matrix\n",
      "[[1 1]\n",
      " [2 2]\n",
      " [3 3]]\n",
      "Centered by columns matrix\n",
      "[[-1. -1.]\n",
      " [ 0.  0.]\n",
      " [ 1.  1.]]\n",
      "New mean by column\n",
      "[0. 0.]\n"
     ]
    }
   ],
   "source": [
    "nparray2 = np.array([[1, 1], [2, 2], [3, 3]]) # Define a 3 x 2 matrix. \n",
    "\n",
    "nparrayCentered = nparray2 - np.mean(nparray2, axis=0) # Remove the mean for each column\n",
    "\n",
    "print('Original matrix')\n",
    "print(nparray2)\n",
    "print('Centered by columns matrix')\n",
    "print(nparrayCentered)\n",
    "\n",
    "print('New mean by column')\n",
    "print(nparrayCentered.mean(axis=0))"
   ]
  }
 ],
 "metadata": {
  "kernelspec": {
   "display_name": "Python 3 (ipykernel)",
   "language": "python",
   "name": "python3"
  },
  "language_info": {
   "codemirror_mode": {
    "name": "ipython",
    "version": 3
   },
   "file_extension": ".py",
   "mimetype": "text/x-python",
   "name": "python",
   "nbconvert_exporter": "python",
   "pygments_lexer": "ipython3",
   "version": "3.12.3"
  }
 },
 "nbformat": 4,
 "nbformat_minor": 5
}
